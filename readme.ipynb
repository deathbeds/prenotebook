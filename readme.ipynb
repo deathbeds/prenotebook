{
 "cells": [
  {
   "cell_type": "markdown",
   "metadata": {},
   "source": [
    "[pre-commit hooks](https://pre-commit.com/) for notebooks:\n",
    "\n",
    "- Strip outputs\n",
    "- Ignore `execution_count`\n",
    "- `black`en & `isort` python code cells\n",
    "- `prettier` markdown cells"
   ]
  },
  {
   "cell_type": "markdown",
   "metadata": {},
   "source": [
    "Add the `prenotebook` pre"
   ]
  },
  {
   "cell_type": "code",
   "execution_count": null,
   "metadata": {},
   "outputs": [],
   "source": [
    "get_ipython().run_cell_magic(\n",
    "    \"file\",\n",
    "    \".pre-commit-config.yaml\",\n",
    "    \"repos:\\n- repo: https://github.com/ambv/black\\n  rev: 19.10b0\\n  hooks:\\n  - id: black\\n- repo: https://github.com/deathbeds/prenotebook\\n  rev: e8b3b91d9dc195a67f42177a9f3298f9749ea43a\\n  hooks:\\n  - id: prenotebook\",\n",
    ")"
   ]
  },
  {
   "cell_type": "code",
   "execution_count": null,
   "metadata": {},
   "outputs": [],
   "source": [
    "get_ipython().system(\n",
    "    \"jupyter nbconvert --to markdown --TemplateExporter.exclude_output=True readme.ipynb\"\n",
    ")"
   ]
  }
 ],
 "metadata": {
  "kernelspec": {
   "display_name": "Python 3",
   "language": "python",
   "name": "python3"
  },
  "language_info": {
   "codemirror_mode": {
    "name": "ipython",
    "version": 3
   },
   "file_extension": ".py",
   "mimetype": "text/x-python",
   "name": "python",
   "nbconvert_exporter": "python",
   "pygments_lexer": "ipython3",
   "version": "3.7.6"
  }
 },
 "nbformat": 4,
 "nbformat_minor": 4
}
